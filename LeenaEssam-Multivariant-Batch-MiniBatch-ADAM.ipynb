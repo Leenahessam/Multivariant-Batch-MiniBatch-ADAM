{
 "cells": [
  {
   "cell_type": "code",
   "execution_count": 336,
   "id": "d6232e53",
   "metadata": {},
   "outputs": [],
   "source": [
    "import numpy as np\n",
    "import matplotlib.pyplot as plt\n",
    "import pandas as pd\n",
    "from sklearn.metrics import r2_score, mean_squared_error\n",
    "%matplotlib inline"
   ]
  },
  {
   "cell_type": "code",
   "execution_count": 337,
   "id": "b3e98997",
   "metadata": {},
   "outputs": [],
   "source": [
    "#renamed file name\n",
    "Data = pd.read_csv('MultipleLR2.csv', sep=',',header=None)"
   ]
  },
  {
   "cell_type": "code",
   "execution_count": 338,
   "id": "f17b9d46",
   "metadata": {},
   "outputs": [
    {
     "data": {
      "text/html": [
       "<div>\n",
       "<style scoped>\n",
       "    .dataframe tbody tr th:only-of-type {\n",
       "        vertical-align: middle;\n",
       "    }\n",
       "\n",
       "    .dataframe tbody tr th {\n",
       "        vertical-align: top;\n",
       "    }\n",
       "\n",
       "    .dataframe thead th {\n",
       "        text-align: right;\n",
       "    }\n",
       "</style>\n",
       "<table border=\"1\" class=\"dataframe\">\n",
       "  <thead>\n",
       "    <tr style=\"text-align: right;\">\n",
       "      <th></th>\n",
       "      <th>0</th>\n",
       "      <th>1</th>\n",
       "      <th>2</th>\n",
       "      <th>3</th>\n",
       "    </tr>\n",
       "  </thead>\n",
       "  <tbody>\n",
       "    <tr>\n",
       "      <th>0</th>\n",
       "      <td>73</td>\n",
       "      <td>80</td>\n",
       "      <td>75</td>\n",
       "      <td>152</td>\n",
       "    </tr>\n",
       "    <tr>\n",
       "      <th>1</th>\n",
       "      <td>93</td>\n",
       "      <td>88</td>\n",
       "      <td>93</td>\n",
       "      <td>185</td>\n",
       "    </tr>\n",
       "    <tr>\n",
       "      <th>2</th>\n",
       "      <td>89</td>\n",
       "      <td>91</td>\n",
       "      <td>90</td>\n",
       "      <td>180</td>\n",
       "    </tr>\n",
       "    <tr>\n",
       "      <th>3</th>\n",
       "      <td>96</td>\n",
       "      <td>98</td>\n",
       "      <td>100</td>\n",
       "      <td>196</td>\n",
       "    </tr>\n",
       "    <tr>\n",
       "      <th>4</th>\n",
       "      <td>73</td>\n",
       "      <td>66</td>\n",
       "      <td>70</td>\n",
       "      <td>142</td>\n",
       "    </tr>\n",
       "    <tr>\n",
       "      <th>5</th>\n",
       "      <td>53</td>\n",
       "      <td>46</td>\n",
       "      <td>55</td>\n",
       "      <td>101</td>\n",
       "    </tr>\n",
       "    <tr>\n",
       "      <th>6</th>\n",
       "      <td>69</td>\n",
       "      <td>74</td>\n",
       "      <td>77</td>\n",
       "      <td>149</td>\n",
       "    </tr>\n",
       "    <tr>\n",
       "      <th>7</th>\n",
       "      <td>47</td>\n",
       "      <td>56</td>\n",
       "      <td>60</td>\n",
       "      <td>115</td>\n",
       "    </tr>\n",
       "    <tr>\n",
       "      <th>8</th>\n",
       "      <td>87</td>\n",
       "      <td>79</td>\n",
       "      <td>90</td>\n",
       "      <td>175</td>\n",
       "    </tr>\n",
       "    <tr>\n",
       "      <th>9</th>\n",
       "      <td>79</td>\n",
       "      <td>70</td>\n",
       "      <td>88</td>\n",
       "      <td>164</td>\n",
       "    </tr>\n",
       "    <tr>\n",
       "      <th>10</th>\n",
       "      <td>69</td>\n",
       "      <td>70</td>\n",
       "      <td>73</td>\n",
       "      <td>141</td>\n",
       "    </tr>\n",
       "    <tr>\n",
       "      <th>11</th>\n",
       "      <td>70</td>\n",
       "      <td>65</td>\n",
       "      <td>74</td>\n",
       "      <td>141</td>\n",
       "    </tr>\n",
       "    <tr>\n",
       "      <th>12</th>\n",
       "      <td>93</td>\n",
       "      <td>95</td>\n",
       "      <td>91</td>\n",
       "      <td>184</td>\n",
       "    </tr>\n",
       "    <tr>\n",
       "      <th>13</th>\n",
       "      <td>79</td>\n",
       "      <td>80</td>\n",
       "      <td>73</td>\n",
       "      <td>152</td>\n",
       "    </tr>\n",
       "    <tr>\n",
       "      <th>14</th>\n",
       "      <td>70</td>\n",
       "      <td>73</td>\n",
       "      <td>78</td>\n",
       "      <td>148</td>\n",
       "    </tr>\n",
       "    <tr>\n",
       "      <th>15</th>\n",
       "      <td>93</td>\n",
       "      <td>89</td>\n",
       "      <td>96</td>\n",
       "      <td>192</td>\n",
       "    </tr>\n",
       "    <tr>\n",
       "      <th>16</th>\n",
       "      <td>78</td>\n",
       "      <td>75</td>\n",
       "      <td>68</td>\n",
       "      <td>147</td>\n",
       "    </tr>\n",
       "    <tr>\n",
       "      <th>17</th>\n",
       "      <td>81</td>\n",
       "      <td>90</td>\n",
       "      <td>93</td>\n",
       "      <td>183</td>\n",
       "    </tr>\n",
       "    <tr>\n",
       "      <th>18</th>\n",
       "      <td>88</td>\n",
       "      <td>92</td>\n",
       "      <td>86</td>\n",
       "      <td>177</td>\n",
       "    </tr>\n",
       "    <tr>\n",
       "      <th>19</th>\n",
       "      <td>78</td>\n",
       "      <td>83</td>\n",
       "      <td>77</td>\n",
       "      <td>159</td>\n",
       "    </tr>\n",
       "    <tr>\n",
       "      <th>20</th>\n",
       "      <td>82</td>\n",
       "      <td>86</td>\n",
       "      <td>90</td>\n",
       "      <td>177</td>\n",
       "    </tr>\n",
       "    <tr>\n",
       "      <th>21</th>\n",
       "      <td>86</td>\n",
       "      <td>82</td>\n",
       "      <td>89</td>\n",
       "      <td>175</td>\n",
       "    </tr>\n",
       "    <tr>\n",
       "      <th>22</th>\n",
       "      <td>78</td>\n",
       "      <td>83</td>\n",
       "      <td>85</td>\n",
       "      <td>175</td>\n",
       "    </tr>\n",
       "    <tr>\n",
       "      <th>23</th>\n",
       "      <td>76</td>\n",
       "      <td>83</td>\n",
       "      <td>71</td>\n",
       "      <td>149</td>\n",
       "    </tr>\n",
       "    <tr>\n",
       "      <th>24</th>\n",
       "      <td>96</td>\n",
       "      <td>93</td>\n",
       "      <td>95</td>\n",
       "      <td>192</td>\n",
       "    </tr>\n",
       "  </tbody>\n",
       "</table>\n",
       "</div>"
      ],
      "text/plain": [
       "     0   1    2    3\n",
       "0   73  80   75  152\n",
       "1   93  88   93  185\n",
       "2   89  91   90  180\n",
       "3   96  98  100  196\n",
       "4   73  66   70  142\n",
       "5   53  46   55  101\n",
       "6   69  74   77  149\n",
       "7   47  56   60  115\n",
       "8   87  79   90  175\n",
       "9   79  70   88  164\n",
       "10  69  70   73  141\n",
       "11  70  65   74  141\n",
       "12  93  95   91  184\n",
       "13  79  80   73  152\n",
       "14  70  73   78  148\n",
       "15  93  89   96  192\n",
       "16  78  75   68  147\n",
       "17  81  90   93  183\n",
       "18  88  92   86  177\n",
       "19  78  83   77  159\n",
       "20  82  86   90  177\n",
       "21  86  82   89  175\n",
       "22  78  83   85  175\n",
       "23  76  83   71  149\n",
       "24  96  93   95  192"
      ]
     },
     "execution_count": 338,
     "metadata": {},
     "output_type": "execute_result"
    }
   ],
   "source": [
    "Data"
   ]
  },
  {
   "cell_type": "code",
   "execution_count": 339,
   "id": "c3077455",
   "metadata": {},
   "outputs": [],
   "source": [
    "x = Data.loc[:,:2]\n",
    "y = Data.loc[:,3]"
   ]
  },
  {
   "cell_type": "code",
   "execution_count": 340,
   "id": "c80cb977",
   "metadata": {},
   "outputs": [
    {
     "data": {
      "text/html": [
       "<div>\n",
       "<style scoped>\n",
       "    .dataframe tbody tr th:only-of-type {\n",
       "        vertical-align: middle;\n",
       "    }\n",
       "\n",
       "    .dataframe tbody tr th {\n",
       "        vertical-align: top;\n",
       "    }\n",
       "\n",
       "    .dataframe thead th {\n",
       "        text-align: right;\n",
       "    }\n",
       "</style>\n",
       "<table border=\"1\" class=\"dataframe\">\n",
       "  <thead>\n",
       "    <tr style=\"text-align: right;\">\n",
       "      <th></th>\n",
       "      <th>0</th>\n",
       "      <th>1</th>\n",
       "      <th>2</th>\n",
       "    </tr>\n",
       "  </thead>\n",
       "  <tbody>\n",
       "    <tr>\n",
       "      <th>0</th>\n",
       "      <td>73</td>\n",
       "      <td>80</td>\n",
       "      <td>75</td>\n",
       "    </tr>\n",
       "    <tr>\n",
       "      <th>1</th>\n",
       "      <td>93</td>\n",
       "      <td>88</td>\n",
       "      <td>93</td>\n",
       "    </tr>\n",
       "    <tr>\n",
       "      <th>2</th>\n",
       "      <td>89</td>\n",
       "      <td>91</td>\n",
       "      <td>90</td>\n",
       "    </tr>\n",
       "    <tr>\n",
       "      <th>3</th>\n",
       "      <td>96</td>\n",
       "      <td>98</td>\n",
       "      <td>100</td>\n",
       "    </tr>\n",
       "    <tr>\n",
       "      <th>4</th>\n",
       "      <td>73</td>\n",
       "      <td>66</td>\n",
       "      <td>70</td>\n",
       "    </tr>\n",
       "    <tr>\n",
       "      <th>5</th>\n",
       "      <td>53</td>\n",
       "      <td>46</td>\n",
       "      <td>55</td>\n",
       "    </tr>\n",
       "    <tr>\n",
       "      <th>6</th>\n",
       "      <td>69</td>\n",
       "      <td>74</td>\n",
       "      <td>77</td>\n",
       "    </tr>\n",
       "    <tr>\n",
       "      <th>7</th>\n",
       "      <td>47</td>\n",
       "      <td>56</td>\n",
       "      <td>60</td>\n",
       "    </tr>\n",
       "    <tr>\n",
       "      <th>8</th>\n",
       "      <td>87</td>\n",
       "      <td>79</td>\n",
       "      <td>90</td>\n",
       "    </tr>\n",
       "    <tr>\n",
       "      <th>9</th>\n",
       "      <td>79</td>\n",
       "      <td>70</td>\n",
       "      <td>88</td>\n",
       "    </tr>\n",
       "    <tr>\n",
       "      <th>10</th>\n",
       "      <td>69</td>\n",
       "      <td>70</td>\n",
       "      <td>73</td>\n",
       "    </tr>\n",
       "    <tr>\n",
       "      <th>11</th>\n",
       "      <td>70</td>\n",
       "      <td>65</td>\n",
       "      <td>74</td>\n",
       "    </tr>\n",
       "    <tr>\n",
       "      <th>12</th>\n",
       "      <td>93</td>\n",
       "      <td>95</td>\n",
       "      <td>91</td>\n",
       "    </tr>\n",
       "    <tr>\n",
       "      <th>13</th>\n",
       "      <td>79</td>\n",
       "      <td>80</td>\n",
       "      <td>73</td>\n",
       "    </tr>\n",
       "    <tr>\n",
       "      <th>14</th>\n",
       "      <td>70</td>\n",
       "      <td>73</td>\n",
       "      <td>78</td>\n",
       "    </tr>\n",
       "    <tr>\n",
       "      <th>15</th>\n",
       "      <td>93</td>\n",
       "      <td>89</td>\n",
       "      <td>96</td>\n",
       "    </tr>\n",
       "    <tr>\n",
       "      <th>16</th>\n",
       "      <td>78</td>\n",
       "      <td>75</td>\n",
       "      <td>68</td>\n",
       "    </tr>\n",
       "    <tr>\n",
       "      <th>17</th>\n",
       "      <td>81</td>\n",
       "      <td>90</td>\n",
       "      <td>93</td>\n",
       "    </tr>\n",
       "    <tr>\n",
       "      <th>18</th>\n",
       "      <td>88</td>\n",
       "      <td>92</td>\n",
       "      <td>86</td>\n",
       "    </tr>\n",
       "    <tr>\n",
       "      <th>19</th>\n",
       "      <td>78</td>\n",
       "      <td>83</td>\n",
       "      <td>77</td>\n",
       "    </tr>\n",
       "    <tr>\n",
       "      <th>20</th>\n",
       "      <td>82</td>\n",
       "      <td>86</td>\n",
       "      <td>90</td>\n",
       "    </tr>\n",
       "    <tr>\n",
       "      <th>21</th>\n",
       "      <td>86</td>\n",
       "      <td>82</td>\n",
       "      <td>89</td>\n",
       "    </tr>\n",
       "    <tr>\n",
       "      <th>22</th>\n",
       "      <td>78</td>\n",
       "      <td>83</td>\n",
       "      <td>85</td>\n",
       "    </tr>\n",
       "    <tr>\n",
       "      <th>23</th>\n",
       "      <td>76</td>\n",
       "      <td>83</td>\n",
       "      <td>71</td>\n",
       "    </tr>\n",
       "    <tr>\n",
       "      <th>24</th>\n",
       "      <td>96</td>\n",
       "      <td>93</td>\n",
       "      <td>95</td>\n",
       "    </tr>\n",
       "  </tbody>\n",
       "</table>\n",
       "</div>"
      ],
      "text/plain": [
       "     0   1    2\n",
       "0   73  80   75\n",
       "1   93  88   93\n",
       "2   89  91   90\n",
       "3   96  98  100\n",
       "4   73  66   70\n",
       "5   53  46   55\n",
       "6   69  74   77\n",
       "7   47  56   60\n",
       "8   87  79   90\n",
       "9   79  70   88\n",
       "10  69  70   73\n",
       "11  70  65   74\n",
       "12  93  95   91\n",
       "13  79  80   73\n",
       "14  70  73   78\n",
       "15  93  89   96\n",
       "16  78  75   68\n",
       "17  81  90   93\n",
       "18  88  92   86\n",
       "19  78  83   77\n",
       "20  82  86   90\n",
       "21  86  82   89\n",
       "22  78  83   85\n",
       "23  76  83   71\n",
       "24  96  93   95"
      ]
     },
     "execution_count": 340,
     "metadata": {},
     "output_type": "execute_result"
    }
   ],
   "source": [
    "x"
   ]
  },
  {
   "cell_type": "code",
   "execution_count": 341,
   "id": "457ade15",
   "metadata": {},
   "outputs": [
    {
     "data": {
      "text/plain": [
       "0     152\n",
       "1     185\n",
       "2     180\n",
       "3     196\n",
       "4     142\n",
       "5     101\n",
       "6     149\n",
       "7     115\n",
       "8     175\n",
       "9     164\n",
       "10    141\n",
       "11    141\n",
       "12    184\n",
       "13    152\n",
       "14    148\n",
       "15    192\n",
       "16    147\n",
       "17    183\n",
       "18    177\n",
       "19    159\n",
       "20    177\n",
       "21    175\n",
       "22    175\n",
       "23    149\n",
       "24    192\n",
       "Name: 3, dtype: int64"
      ]
     },
     "execution_count": 341,
     "metadata": {},
     "output_type": "execute_result"
    }
   ],
   "source": [
    "y"
   ]
  },
  {
   "cell_type": "code",
   "execution_count": 342,
   "id": "a5fe1d54",
   "metadata": {},
   "outputs": [],
   "source": [
    "xThetas = np.ones(25)\n",
    "x.insert(0,'thetas', xThetas, True)"
   ]
  },
  {
   "cell_type": "code",
   "execution_count": 343,
   "id": "f4b6138d",
   "metadata": {},
   "outputs": [],
   "source": [
    "x = np.array(x)"
   ]
  },
  {
   "cell_type": "code",
   "execution_count": 344,
   "id": "1162b871",
   "metadata": {},
   "outputs": [],
   "source": [
    "y = np.array(y)\n",
    "y = y.reshape(y.shape[0],1)"
   ]
  },
  {
   "cell_type": "code",
   "execution_count": 345,
   "id": "a8f0267b",
   "metadata": {},
   "outputs": [],
   "source": [
    "#cost function\n",
    "def J(h,y):\n",
    "    j = 1/(2*len(y)) * sum((h-y)**2)\n",
    "    return j\n",
    "\n",
    "#gradient\n",
    "def calcGradient(x,y,h):\n",
    "    theta = 1/len(y) * (h-y).T@x\n",
    "    return theta"
   ]
  },
  {
   "cell_type": "code",
   "execution_count": 346,
   "id": "466ebabd",
   "metadata": {},
   "outputs": [],
   "source": [
    "def ADAM_B(x,y,beta1, beta2, lr, epsilon, iterations):\n",
    "    thetas = np.zeros([4,1], dtype = float)\n",
    "    costs  = []\n",
    "    vthetast = np.zeros([4,1], dtype = float)\n",
    "    mthetast = np.zeros([4,1], dtype = float)\n",
    "    hs = []\n",
    "    thetass = []\n",
    "    for i in range(0,iterations):\n",
    "        h = x@thetas\n",
    "        j = J(h, y)\n",
    "        costs.append(j)\n",
    "        gthetas = calcGradient(x,y,h).T\n",
    "\n",
    "        mthetast = beta1*mthetast + (1-beta1)*(gthetas)\n",
    "\n",
    "        vthetast =  beta2*vthetast + (1-beta2)*(gthetas)**2\n",
    "\n",
    "        # bias correction\n",
    "        mthetas = mthetast/(1-beta1**(i+1))\n",
    "\n",
    "        vthetas = vthetast/(1-beta2**(i+1))\n",
    "\n",
    "        thetas = thetas - lr/(np.sqrt(vthetas)+epsilon)*mthetas\n",
    "\n",
    "        thetass.append(thetas)\n",
    "        if(i > 1):\n",
    "            if (abs(popCost[i]-popCost[i-1])) < 0.01:\n",
    "                break\n",
    "            if (thetass[i][0]-thetass[i-1][0]) < 0.001:\n",
    "                break \n",
    "    return thetas, costs, thetass, vthetas, hs"
   ]
  },
  {
   "cell_type": "code",
   "execution_count": 347,
   "id": "cacca67e",
   "metadata": {},
   "outputs": [
    {
     "data": {
      "text/plain": [
       "array([[0.67642956],\n",
       "       [0.67624802],\n",
       "       [0.67618763],\n",
       "       [0.67753881]])"
      ]
     },
     "execution_count": 347,
     "metadata": {},
     "output_type": "execute_result"
    }
   ],
   "source": [
    "thetas, costs, thetass, vthetas, hs = ADAM_B(x,y,0.7,0.84,0.01,1e-8,1500)\n",
    "thetas"
   ]
  },
  {
   "cell_type": "code",
   "execution_count": 348,
   "id": "c6d67526",
   "metadata": {},
   "outputs": [
    {
     "data": {
      "text/plain": [
       "0.9763930469455354"
      ]
     },
     "execution_count": 348,
     "metadata": {},
     "output_type": "execute_result"
    }
   ],
   "source": [
    "ypred = x@thetas\n",
    "R2 = r2_score(y, ypred)\n",
    "R2"
   ]
  },
  {
   "cell_type": "code",
   "execution_count": 349,
   "id": "1c4bc0dd",
   "metadata": {},
   "outputs": [
    {
     "data": {
      "image/png": "[encoded data removed]",
      "text/plain": [
       "<Figure size 432x288 with 1 Axes>"
      ]
     },
     "metadata": {
      "needs_background": "light"
     },
     "output_type": "display_data"
    }
   ],
   "source": [
    "plt.plot(costs)\n",
    "plt.xlabel('iterations')\n",
    "plt.ylabel('costs')\n",
    "plt.show()"
   ]
  },
  {
   "cell_type": "code",
   "execution_count": 350,
   "id": "f7104ec4",
   "metadata": {},
   "outputs": [],
   "source": [
    "thetas0 = []\n",
    "thetas1 = []\n",
    "thetas2 = []\n",
    "thetas3 = []\n",
    "for array in thetass:\n",
    "    thetas0.append(array[0])\n",
    "    thetas1.append(array[1])\n",
    "    thetas2.append(array[2])\n",
    "    thetas3.append(array[3])\n",
    "\n",
    "thetas0 = np.reshape(thetas0, (1, 82)).T\n",
    "thetas1 = np.reshape(thetas1, (1, 82)).T\n",
    "thetas2 = np.reshape(thetas2, (1, 82)).T\n",
    "thetas3 = np.reshape(thetas3, (1, 82)).T"
   ]
  },
  {
   "cell_type": "code",
   "execution_count": 351,
   "id": "9aa9abc5",
   "metadata": {},
   "outputs": [
    {
     "data": {
      "text/plain": [
       "Text(0, 0.5, 'Cost Value')"
      ]
     },
     "execution_count": 351,
     "metadata": {},
     "output_type": "execute_result"
    },
    {
     "data": {
      "image/png": "[encoded data removed]",
      "text/plain": [
       "<Figure size 432x288 with 1 Axes>"
      ]
     },
     "metadata": {
      "needs_background": "light"
     },
     "output_type": "display_data"
    }
   ],
   "source": [
    "fig,ax = plt.subplots()\n",
    "ax.plot(thetas0, costs[:82] ,'r')\n",
    "ax.set_xlabel('Theta_0')\n",
    "ax.set_ylabel('Cost Value')"
   ]
  },
  {
   "cell_type": "code",
   "execution_count": 352,
   "id": "0e68b863",
   "metadata": {},
   "outputs": [
    {
     "data": {
      "text/plain": [
       "Text(0, 0.5, 'Cost Value')"
      ]
     },
     "execution_count": 352,
     "metadata": {},
     "output_type": "execute_result"
    },
    {
     "data": {
      "image/png": "[encoded data removed]",
      "text/plain": [
       "<Figure size 432x288 with 1 Axes>"
      ]
     },
     "metadata": {
      "needs_background": "light"
     },
     "output_type": "display_data"
    }
   ],
   "source": [
    "fig,ax = plt.subplots()\n",
    "ax.plot(thetas1, costs[:82] ,'r')\n",
    "ax.set_xlabel('Theta_1')\n",
    "ax.set_ylabel('Cost Value')"
   ]
  },
  {
   "cell_type": "code",
   "execution_count": 353,
   "id": "e691277a",
   "metadata": {},
   "outputs": [
    {
     "data": {
      "text/plain": [
       "Text(0, 0.5, 'Cost Value')"
      ]
     },
     "execution_count": 353,
     "metadata": {},
     "output_type": "execute_result"
    },
    {
     "data": {
      "image/png": "[encoded data removed]",
      "text/plain": [
       "<Figure size 432x288 with 1 Axes>"
      ]
     },
     "metadata": {
      "needs_background": "light"
     },
     "output_type": "display_data"
    }
   ],
   "source": [
    "fig,ax = plt.subplots()\n",
    "ax.plot(thetas2, costs[:82] ,'r')\n",
    "ax.set_xlabel('Theta_2')\n",
    "ax.set_ylabel('Cost Value')"
   ]
  },
  {
   "cell_type": "code",
   "execution_count": 354,
   "id": "68fd15d9",
   "metadata": {},
   "outputs": [
    {
     "data": {
      "text/plain": [
       "Text(0, 0.5, 'Cost Value')"
      ]
     },
     "execution_count": 354,
     "metadata": {},
     "output_type": "execute_result"
    },
    {
     "data": {
      "image/png": "[encoded data removed]",
      "text/plain": [
       "<Figure size 432x288 with 1 Axes>"
      ]
     },
     "metadata": {
      "needs_background": "light"
     },
     "output_type": "display_data"
    }
   ],
   "source": [
    "fig,ax = plt.subplots()\n",
    "ax.plot(thetas3, costs[:82] ,'r')\n",
    "ax.set_xlabel('Theta_3')\n",
    "ax.set_ylabel('Cost Value')"
   ]
  },
  {
   "cell_type": "code",
   "execution_count": 355,
   "id": "053dc966",
   "metadata": {},
   "outputs": [],
   "source": [
    "def ADAM_MiniB(x,y,beta1, beta2, lr, epsilon, iterations, bsize):\n",
    "    thetas = np.zeros([4,1], dtype = float)\n",
    "    costs  = []\n",
    "    vthetast = np.zeros([4,1], dtype = float)\n",
    "    mthetast = np.zeros([4,1], dtype = float)\n",
    "    hs = []\n",
    "    thetass = []\n",
    "    popCost = [J(x@thetas, y)]\n",
    "    for i in range(0,iterations):\n",
    "        for j in range(0,bsize):\n",
    "            start = int(j*(len(x)/bsize))\n",
    "            end = int(start+(len(x)-1/bsize))\n",
    "            X = x[start:end]\n",
    "            Y = y[start:end]\n",
    "            h = X@thetas\n",
    "            j = J(h, Y)\n",
    "            costs.append(j)\n",
    "            gthetas = calcGradient(X,Y,h).T\n",
    "\n",
    "            mthetast = beta1*mthetast + (1-beta1)*(gthetas)\n",
    "\n",
    "            vthetast =  beta2*vthetast + (1-beta2)*(gthetas)**2\n",
    "\n",
    "            # bias correction\n",
    "            mthetas = mthetast/(1-beta1**(i+1))\n",
    "\n",
    "            vthetas = vthetast/(1-beta2**(i+1))\n",
    "\n",
    "            thetas = thetas - lr/(np.sqrt(vthetas)+epsilon)*mthetas\n",
    "\n",
    "        thetass.append(thetas)\n",
    "        popCost.append(J(x@thetas, y))\n",
    "        if(i > 1):\n",
    "            if (abs(popCost[i]-popCost[i-1])) < 0.01:\n",
    "                break\n",
    "            if (thetass[i][0]-thetass[i-1][0]) < 0.001:\n",
    "                break \n",
    "    return thetas, costs, popCost, thetass, vthetas, hs"
   ]
  },
  {
   "cell_type": "code",
   "execution_count": 356,
   "id": "006a239f",
   "metadata": {},
   "outputs": [
    {
     "data": {
      "text/plain": [
       "array([[0.67719446],\n",
       "       [0.67682789],\n",
       "       [0.67669495],\n",
       "       [0.67854192]])"
      ]
     },
     "execution_count": 356,
     "metadata": {},
     "output_type": "execute_result"
    }
   ],
   "source": [
    "thetas, costs, popCost, thetass, vthetas, hs = ADAM_MiniB(x,y,0.8,0.5,0.001,0.000001,1000,5)\n",
    "thetas"
   ]
  },
  {
   "cell_type": "code",
   "execution_count": 357,
   "id": "747e7f05",
   "metadata": {},
   "outputs": [
    {
     "data": {
      "text/plain": [
       "0.9757304830517288"
      ]
     },
     "execution_count": 357,
     "metadata": {},
     "output_type": "execute_result"
    }
   ],
   "source": [
    "ypred = x@thetas\n",
    "R2 = r2_score(y, ypred)\n",
    "R2"
   ]
  },
  {
   "cell_type": "code",
   "execution_count": 358,
   "id": "12bbee1d",
   "metadata": {},
   "outputs": [
    {
     "data": {
      "image/png": "[encoded data removed]",
      "text/plain": [
       "<Figure size 432x288 with 1 Axes>"
      ]
     },
     "metadata": {
      "needs_background": "light"
     },
     "output_type": "display_data"
    }
   ],
   "source": [
    "plt.plot(popCost)\n",
    "plt.xlabel('iterations')\n",
    "plt.ylabel('costs')\n",
    "plt.show()"
   ]
  },
  {
   "cell_type": "code",
   "execution_count": 359,
   "id": "dbb39390",
   "metadata": {},
   "outputs": [],
   "source": [
    "\n",
    "thetas0 = []\n",
    "thetas1 = []\n",
    "thetas2 = []\n",
    "thetas3 = []\n",
    "for array in thetass:\n",
    "    thetas0.append(array[0])\n",
    "    thetas1.append(array[1])\n",
    "    thetas2.append(array[2])\n",
    "    thetas3.append(array[3])\n",
    "\n",
    "thetas0 = np.reshape(thetas0, (1, 129)).T\n",
    "thetas1 = np.reshape(thetas1, (1, 129)).T\n",
    "thetas2 = np.reshape(thetas2, (1, 129)).T\n",
    "thetas3 = np.reshape(thetas3, (1, 129)).T\n"
   ]
  },
  {
   "cell_type": "code",
   "execution_count": 360,
   "id": "94c08f13",
   "metadata": {},
   "outputs": [
    {
     "data": {
      "text/plain": [
       "Text(0, 0.5, 'Cost Value')"
      ]
     },
     "execution_count": 360,
     "metadata": {},
     "output_type": "execute_result"
    },
    {
     "data": {
      "image/png": "[encoded data removed]",
      "text/plain": [
       "<Figure size 432x288 with 1 Axes>"
      ]
     },
     "metadata": {
      "needs_background": "light"
     },
     "output_type": "display_data"
    }
   ],
   "source": [
    "fig,ax = plt.subplots()\n",
    "ax.plot(thetas0, costs[:129] ,'r')\n",
    "ax.set_xlabel('Theta_0')\n",
    "ax.set_ylabel('Cost Value')"
   ]
  },
  {
   "cell_type": "code",
   "execution_count": 361,
   "id": "fe4ad688",
   "metadata": {},
   "outputs": [
    {
     "data": {
      "text/plain": [
       "Text(0, 0.5, 'Cost Value')"
      ]
     },
     "execution_count": 361,
     "metadata": {},
     "output_type": "execute_result"
    },
    {
     "data": {
      "image/png": "[encoded data removed]",
      "text/plain": [
       "<Figure size 432x288 with 1 Axes>"
      ]
     },
     "metadata": {
      "needs_background": "light"
     },
     "output_type": "display_data"
    }
   ],
   "source": [
    "fig,ax = plt.subplots()\n",
    "ax.plot(thetas1, costs[:129] ,'r')\n",
    "ax.set_xlabel('Theta_1')\n",
    "ax.set_ylabel('Cost Value')"
   ]
  },
  {
   "cell_type": "code",
   "execution_count": 362,
   "id": "0241e068",
   "metadata": {},
   "outputs": [
    {
     "data": {
      "text/plain": [
       "Text(0, 0.5, 'Cost Value')"
      ]
     },
     "execution_count": 362,
     "metadata": {},
     "output_type": "execute_result"
    },
    {
     "data": {
      "image/png": "[encoded data removed]",
      "text/plain": [
       "<Figure size 432x288 with 1 Axes>"
      ]
     },
     "metadata": {
      "needs_background": "light"
     },
     "output_type": "display_data"
    }
   ],
   "source": [
    "fig,ax = plt.subplots()\n",
    "ax.plot(thetas2, costs[:129] ,'r')\n",
    "ax.set_xlabel('Theta_2')\n",
    "ax.set_ylabel('Cost Value')"
   ]
  },
  {
   "cell_type": "code",
   "execution_count": 363,
   "id": "4f190a5d",
   "metadata": {},
   "outputs": [
    {
     "data": {
      "text/plain": [
       "Text(0, 0.5, 'Cost Value')"
      ]
     },
     "execution_count": 363,
     "metadata": {},
     "output_type": "execute_result"
    },
    {
     "data": {
      "image/png": "[encoded data removed]",
      "text/plain": [
       "<Figure size 432x288 with 1 Axes>"
      ]
     },
     "metadata": {
      "needs_background": "light"
     },
     "output_type": "display_data"
    }
   ],
   "source": [
    "fig,ax = plt.subplots()\n",
    "ax.plot(thetas3, costs[:129] ,'r')\n",
    "ax.set_xlabel('Theta_3')\n",
    "ax.set_ylabel('Cost Value')"
   ]
  },
  {
   "cell_type": "code",
   "execution_count": null,
   "id": "be4a8a62",
   "metadata": {},
   "outputs": [],
   "source": []
  },
  {
   "cell_type": "code",
   "execution_count": null,
   "id": "b3e84227",
   "metadata": {},
   "outputs": [],
   "source": []
  }
 ],
 "metadata": {
  "kernelspec": {
   "display_name": "Python 3 (ipykernel)",
   "language": "python",
   "name": "python3"
  },
  "language_info": {
   "codemirror_mode": {
    "name": "ipython",
    "version": 3
   },
   "file_extension": ".py",
   "mimetype": "text/x-python",
   "name": "python",
   "nbconvert_exporter": "python",
   "pygments_lexer": "ipython3",
   "version": "3.9.7"
  }
 },
 "nbformat": 4,
 "nbformat_minor": 5
}
